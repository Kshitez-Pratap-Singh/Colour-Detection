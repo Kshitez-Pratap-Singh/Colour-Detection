{
 "cells": [
  {
   "cell_type": "markdown",
   "id": "5bbd953a",
   "metadata": {},
   "source": [
    "# Red Color Detection"
   ]
  },
  {
   "cell_type": "code",
   "execution_count": 1,
   "id": "f28a6768",
   "metadata": {},
   "outputs": [],
   "source": [
    "import cv2\n",
    "import numpy as np\n",
    "\n",
    "cap=cv2.VideoCapture(0)\n",
    "while True:\n",
    "    _, frame=cap.read()\n",
    "    hsv_frame=cv2.cvtColor(frame,cv2.COLOR_BGR2HSV)\n",
    "    \n",
    "    #red color\n",
    "    low_red=np.array([161,155,84])\n",
    "    high_red=np.array([179,255,255])\n",
    "    red_mask=cv2.inRange(hsv_frame,low_red,high_red)\n",
    "    red=cv2.bitwise_and(frame,frame,mask=red_mask)\n",
    "    \n",
    "    \n",
    "    cv2.imshow(\"Frame\",frame)\n",
    "    cv2.imshow(\"Red\",red)\n",
    "    key=cv2.waitKey(1)\n",
    "    if cv2.waitKey(10) & 0xFF == ord('q'): \n",
    "        cap.release() \n",
    "        cv2.destroyAllWindows() \n",
    "        break"
   ]
  }
 ],
 "metadata": {
  "kernelspec": {
   "display_name": "Python 3 (ipykernel)",
   "language": "python",
   "name": "python3"
  },
  "language_info": {
   "codemirror_mode": {
    "name": "ipython",
    "version": 3
   },
   "file_extension": ".py",
   "mimetype": "text/x-python",
   "name": "python",
   "nbconvert_exporter": "python",
   "pygments_lexer": "ipython3",
   "version": "3.9.16"
  }
 },
 "nbformat": 4,
 "nbformat_minor": 5
}
