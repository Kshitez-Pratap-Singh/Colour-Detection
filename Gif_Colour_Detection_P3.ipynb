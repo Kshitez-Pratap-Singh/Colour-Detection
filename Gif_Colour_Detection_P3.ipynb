{
 "cells": [
  {
   "cell_type": "markdown",
   "metadata": {},
   "source": [
    "# Gif Color Detection"
   ]
  },
  {
   "cell_type": "code",
   "execution_count": 1,
   "metadata": {},
   "outputs": [],
   "source": [
    "import cv2"
   ]
  },
  {
   "cell_type": "code",
   "execution_count": 2,
   "metadata": {},
   "outputs": [],
   "source": [
    "import numpy as np\n",
    "import cv2\n",
    "\n",
    "# Open the GIF file\n",
    "gif = cv2.VideoCapture(r\"C:\\Users\\kshit\\color detection project\\gif.gif\")\n",
    "\n"
   ]
  },
  {
   "cell_type": "code",
   "execution_count": 3,
   "metadata": {},
   "outputs": [],
   "source": [
    "# Start a while loop to read the video frames\n",
    "while True:\n",
    "    ret, imageFrame = gif.read()\n",
    "\n",
    "    # Break the loop if there are no more frames\n",
    "    if not ret:\n",
    "        break\n",
    "\n",
    "    # Convert the imageFrame to the HSV color space\n",
    "    hsvFrame = cv2.cvtColor(imageFrame, cv2.COLOR_BGR2HSV)\n",
    "\n",
    "    # Define the lower and upper bounds for each color\n",
    "    colors = {\n",
    "        'red': ([136, 87, 111], [180, 255, 255]),\n",
    "        'green': ([25, 52, 72], [102, 255, 255]),\n",
    "        'blue': ([94, 80, 2], [120, 255, 255])\n",
    "    }\n",
    "\n",
    "    # Detect each color in the frame\n",
    "    for color, (lower, upper) in colors.items():\n",
    "        mask = cv2.inRange(hsvFrame, np.array(lower), np.array(upper))\n",
    "        kernel = np.ones((5, 5), np.uint8)\n",
    "        mask = cv2.dilate(mask, kernel)\n",
    "        contours, hierarchy = cv2.findContours(mask, cv2.RETR_TREE, cv2.CHAIN_APPROX_SIMPLE)\n",
    "        \n",
    "        # Draw a rectangle around the detected object\n",
    "        for pic, contour in enumerate(contours):\n",
    "            area = cv2.contourArea(contour)\n",
    "            if area > 300:\n",
    "                x, y, w, h = cv2.boundingRect(contour)\n",
    "                cv2.rectangle(imageFrame, (x, y), (x + w, y + h), (0, 0, 255), 2)\n",
    "                cv2.putText(imageFrame, color.title() + ' Colour', (x, y), cv2.FONT_HERSHEY_SIMPLEX, 1.0, (0, 0, 255))\n",
    "    # Display the frame\n",
    "    cv2.imshow('Multiple Color Detection in Real-Time', imageFrame)\n",
    "    \n",
    "    # Exit the program if 'q' is pressed\n",
    "    if cv2.waitKey(10) & 0xFF == ord('q'):\n",
    "        gif.release()\n",
    "        cv2.destroyAllWindows()\n",
    "        break\n"
   ]
  },
  {
   "cell_type": "code",
   "execution_count": 4,
   "metadata": {},
   "outputs": [],
   "source": [
    "# Release the video capture and destroy all windows\n",
    "\n",
    "#gif.release()\n"
   ]
  },
  {
   "cell_type": "code",
   "execution_count": null,
   "metadata": {},
   "outputs": [],
   "source": []
  }
 ],
 "metadata": {
  "kernelspec": {
   "display_name": "Python 3 (ipykernel)",
   "language": "python",
   "name": "python3"
  },
  "language_info": {
   "codemirror_mode": {
    "name": "ipython",
    "version": 3
   },
   "file_extension": ".py",
   "mimetype": "text/x-python",
   "name": "python",
   "nbconvert_exporter": "python",
   "pygments_lexer": "ipython3",
   "version": "3.9.16"
  }
 },
 "nbformat": 4,
 "nbformat_minor": 2
}
