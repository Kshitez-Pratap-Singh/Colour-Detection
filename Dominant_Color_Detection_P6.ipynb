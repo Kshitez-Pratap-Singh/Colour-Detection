{
 "cells": [
  {
   "cell_type": "markdown",
   "id": "55525a4a",
   "metadata": {},
   "source": [
    "# Dominant Color Detection"
   ]
  },
  {
   "cell_type": "code",
   "execution_count": 1,
   "id": "97642e50",
   "metadata": {},
   "outputs": [
    {
     "name": "stdout",
     "output_type": "stream",
     "text": [
      "1. RGB(211, 189, 169)\n",
      "2. RGB(113, 93, 82)\n",
      "3. RGB(35, 28, 32)\n",
      "4. RGB(195, 200, 203)\n",
      "5. RGB(167, 148, 134)\n"
     ]
    }
   ],
   "source": [
    "import cv2\n",
    "import numpy as np\n",
    "\n",
    "\n",
    "def create_bar(height, width, color):\n",
    "    bar = np.zeros((height, width, 3), np.uint8)\n",
    "    bar[:] = color\n",
    "    red, green, blue = int(color[2]), int(color[1]), int(color[0])\n",
    "    return bar, (red, green, blue)\n",
    "\n",
    "img = cv2.imread(r\"C:\\Users\\kshit\\color detection project\\Color detections\\Barkha.jfif\")\n",
    "height,width,_= np.shape(img)\n",
    "#_= np.shape(img)\n",
    "# print(height, width)\n",
    "\n",
    "data = np.reshape(img, (height * width, 3))\n",
    "data = np.float32(data)\n",
    "\n",
    "number_clusters = 5\n",
    "criteria = (cv2.TERM_CRITERIA_EPS + cv2.TERM_CRITERIA_MAX_ITER, 10, 1.0)\n",
    "flags = cv2.KMEANS_RANDOM_CENTERS\n",
    "compactness, labels, centers = cv2.kmeans(data, number_clusters, None, criteria, 10, flags)\n",
    "# print(centers)\n",
    "\n",
    "font = cv2.FONT_HERSHEY_SIMPLEX\n",
    "bars = []\n",
    "rgb_values = []\n",
    "\n",
    "for index, row in enumerate(centers):\n",
    "    bar, rgb = create_bar(200, 200, row)\n",
    "    bars.append(bar)\n",
    "    rgb_values.append(rgb)\n",
    "\n",
    "img_bar = np.hstack(bars)\n",
    "\n",
    "for index, row in enumerate(rgb_values):\n",
    "    image = cv2.putText(img_bar, f'{index + 1}. RGB: {row}', (5 + 200 * index, 200 - 10),\n",
    "                        font, 0.5, (255, 0, 0), 1, cv2.LINE_AA)\n",
    "    print(f'{index + 1}. RGB{row}')\n",
    "\n",
    "cv2.imshow('Image', img)\n",
    "cv2.imshow('Dominant colors', img_bar)\n",
    "# cv2.imwrite('output/bar.jpg', img_bar)\n",
    "\n",
    "cv2.waitKey(0)\n",
    "if cv2.waitKey(10) & 0xFF == ord('q'):\n",
    "    cv2.destroyAllWindows() "
   ]
  }
 ],
 "metadata": {
  "kernelspec": {
   "display_name": "Python 3 (ipykernel)",
   "language": "python",
   "name": "python3"
  },
  "language_info": {
   "codemirror_mode": {
    "name": "ipython",
    "version": 3
   },
   "file_extension": ".py",
   "mimetype": "text/x-python",
   "name": "python",
   "nbconvert_exporter": "python",
   "pygments_lexer": "ipython3",
   "version": "3.9.16"
  }
 },
 "nbformat": 4,
 "nbformat_minor": 5
}
