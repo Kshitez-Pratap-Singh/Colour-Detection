{
 "cells": [
  {
   "cell_type": "markdown",
   "id": "92aebec6",
   "metadata": {},
   "source": [
    "# Color Detection on  Moving Object"
   ]
  },
  {
   "cell_type": "markdown",
   "id": "9c985525",
   "metadata": {},
   "source": [
    "### Below are the Contents of Project:"
   ]
  },
  {
   "cell_type": "markdown",
   "id": "ecd3c268",
   "metadata": {},
   "source": [
    ">1. <a href=\"#Description\">Description</a>\n",
    "2. <a href=\"#Importing-the-Libraries\">Importing the Libraries</a>\n",
    "3. <a href=\"#Color-Detection\">Color Detection</a>"
   ]
  },
  {
   "cell_type": "markdown",
   "id": "0e6f3fa5",
   "metadata": {},
   "source": [
    "### Description"
   ]
  },
  {
   "cell_type": "markdown",
   "id": "093c89d6",
   "metadata": {},
   "source": [
    "><ol>\n",
    "    <li>It is a process of identifying the color present in an image, or object or in video.</li><br>\n",
    "    <li>It is related to analyzing the RGB (Red, Green, Blue) values of pixels in an image or video to\n",
    "        determine the dominant color.</li><br>\n",
    "    <li>It is implemented with the help python code where the webcam is ON and their is a small dot in the middle, where if you bring any object its color is mentioned by the system.</li>\n",
    "</ol>"
   ]
  },
  {
   "cell_type": "markdown",
   "id": "7195a5b3",
   "metadata": {},
   "source": [
    "### Importing the Libraries"
   ]
  },
  {
   "cell_type": "markdown",
   "id": "aaa83cc2",
   "metadata": {},
   "source": [
    "><ol>\n",
    "    <li> Importing the Basic Libraries of Python along with the cv2 libraries, which is used in computer application and    \n",
    "        getting the color of the pixel.</li> <br>\n",
    "    <li>For computers it is in 2D Array</li> <br>\n",
    "</ol>"
   ]
  },
  {
   "cell_type": "markdown",
   "id": "54ba9976",
   "metadata": {},
   "source": [
    "<div class=\"alert alert-block alert-warning\">\n",
    "<b>Imp:</b> In computer each pixel is made up of R-G-B components normally, but in opencv it is made up of B-G-R format\n",
    "</div>"
   ]
  },
  {
   "cell_type": "code",
   "execution_count": 1,
   "id": "7be59270",
   "metadata": {},
   "outputs": [],
   "source": [
    "import numpy as np\n",
    "import pandas as pd\n",
    "import seaborn as sns\n",
    "import cv2"
   ]
  },
  {
   "cell_type": "markdown",
   "id": "a7d0e41e",
   "metadata": {},
   "source": [
    "### Color Detection"
   ]
  },
  {
   "cell_type": "code",
   "execution_count": 5,
   "id": "3bfaab28",
   "metadata": {},
   "outputs": [],
   "source": [
    "cap=cv2.VideoCapture(0)\n",
    "cap.set(cv2.CAP_PROP_FRAME_WIDTH,1288)\n",
    "cap.set(cv2.CAP_PROP_FRAME_HEIGHT,728)\n",
    "\n",
    "while True:\n",
    "    _, frame=cap.read()\n",
    "    hsv_frame=cv2.cvtColor(frame,cv2.COLOR_BGR2HSV)\n",
    "    height, width, _ =frame.shape\n",
    "    \n",
    "    cx=int(width/2)\n",
    "    cy=int(height/2)\n",
    "    \n",
    "    pixel_center=hsv_frame[cy,cx]\n",
    "    hue_value=pixel_center[0]\n",
    "    \n",
    "    if hue_value<5:\n",
    "        color='RED'\n",
    "        \n",
    "    elif hue_value<22:\n",
    "        color='ORANGE'\n",
    "        \n",
    "    elif hue_value < 33:\n",
    "        color='YELLOW'\n",
    "        \n",
    "    elif hue_value < 78:\n",
    "        color='GREEN'\n",
    "    \n",
    "    elif hue_value < 131:\n",
    "        color='BLUE'\n",
    "        \n",
    "    elif hue_value < 170:\n",
    "        color='VIOLET'\n",
    "    \n",
    "    else:\n",
    "        color='RED'\n",
    "    \n",
    "    pixel_center_bgr=frame[cy,cx]\n",
    "    b,g,r=int(pixel_center_bgr[0]),int(pixel_center_bgr[1]),int(pixel_center_bgr[2])\n",
    "    #print(pixel_center)\n",
    "    cv2.putText(frame,color,(10,70),0,2.5,(b,g,r),2)\n",
    "    cv2.circle(frame,(cx,cy),5,(25,25,25),3)\n",
    "    cv2.imshow('Frame',frame)\n",
    "    key=cv2.waitKey(1)\n",
    "    if cv2.waitKey(10) & 0xFF == ord('q'): \n",
    "        cap.release() \n",
    "        cv2.destroyAllWindows() \n",
    "        break\n",
    "        \n",
    "cap.release()\n",
    "cv2.destroyAllWindows()"
   ]
  },
  {
   "cell_type": "code",
   "execution_count": null,
   "id": "1d0ca3f2",
   "metadata": {},
   "outputs": [],
   "source": []
  }
 ],
 "metadata": {
  "kernelspec": {
   "display_name": "Python 3 (ipykernel)",
   "language": "python",
   "name": "python3"
  },
  "language_info": {
   "codemirror_mode": {
    "name": "ipython",
    "version": 3
   },
   "file_extension": ".py",
   "mimetype": "text/x-python",
   "name": "python",
   "nbconvert_exporter": "python",
   "pygments_lexer": "ipython3",
   "version": "3.9.16"
  }
 },
 "nbformat": 4,
 "nbformat_minor": 5
}
