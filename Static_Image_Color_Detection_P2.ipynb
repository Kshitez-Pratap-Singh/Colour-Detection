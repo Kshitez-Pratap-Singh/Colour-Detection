{
 "cells": [
  {
   "cell_type": "markdown",
   "id": "7aaa0d84",
   "metadata": {},
   "source": [
    "# Color Detection on Static Image"
   ]
  },
  {
   "cell_type": "markdown",
   "id": "e1784098",
   "metadata": {},
   "source": [
    "### Below are the Contents of Project:"
   ]
  },
  {
   "cell_type": "markdown",
   "id": "41206c8e",
   "metadata": {},
   "source": [
    ">1. <a href=\"#Description\">Description</a>\n",
    "2. <a href=\"#Importing-the-Libraries\">Importing the Libraries</a>\n",
    "3. <a href=\"#Importing-the-Dataset\">Importing the Dataset</a>\n",
    "4. <a href=\"#Color-Detection\">Color Detection</a>"
   ]
  },
  {
   "cell_type": "markdown",
   "id": "bf0c16a5",
   "metadata": {},
   "source": [
    "### Description"
   ]
  },
  {
   "cell_type": "markdown",
   "id": "256364d4",
   "metadata": {},
   "source": [
    "><ol>\n",
    "    <li>It is a process of identifying the color present in an image, or object or in video.</li><br>\n",
    "    <li>It is related to analyzing the RGB (Red, Green, Blue) values of pixels in an image or video to\n",
    "        determine the dominant color.</li><br>\n",
    "    <li>It is the python code where static images is provided by the user and the image go through Color Detection    \n",
    "        Algorithm, and in the next step the user gets to know the color of the part of image as whole and its RGB (Red \n",
    "        Green Blue) component.</li>\n",
    "</ol>"
   ]
  },
  {
   "cell_type": "markdown",
   "id": "b059237d",
   "metadata": {},
   "source": [
    "### Importing the Libraries"
   ]
  },
  {
   "cell_type": "markdown",
   "id": "f057c158",
   "metadata": {},
   "source": [
    "><ol>\n",
    "    <li> Importing the Basic Libraries of Python along with the cv2 libraries, which is used in computer application and    \n",
    "        getting the color of the pixel.</li> <br>\n",
    "    <li>For computers it is in 2D Array</li> <br>\n",
    "</ol>"
   ]
  },
  {
   "cell_type": "markdown",
   "id": "cd07c70a",
   "metadata": {},
   "source": [
    "<div class=\"alert alert-block alert-warning\">\n",
    "<b>Imp:</b> In computer each pixel is made up of R-G-B components normally, but in opencv it is made up of B-G-R format\n",
    "</div>"
   ]
  },
  {
   "cell_type": "code",
   "execution_count": 1,
   "id": "143c3407",
   "metadata": {},
   "outputs": [],
   "source": [
    "import numpy as np\n",
    "import pandas as pd\n",
    "import seaborn as sns\n",
    "import matplotlib.pyplot as plt\n",
    "from matplotlib import colors\n",
    "\n",
    "import cv2\n",
    "from collections import Counter\n",
    "from sklearn.cluster import KMeans"
   ]
  },
  {
   "cell_type": "markdown",
   "id": "a888ce2e",
   "metadata": {},
   "source": [
    "### Importing the Dataset"
   ]
  },
  {
   "cell_type": "code",
   "execution_count": 2,
   "id": "f4bb64cc",
   "metadata": {},
   "outputs": [
    {
     "data": {
      "text/html": [
       "<div>\n",
       "<style scoped>\n",
       "    .dataframe tbody tr th:only-of-type {\n",
       "        vertical-align: middle;\n",
       "    }\n",
       "\n",
       "    .dataframe tbody tr th {\n",
       "        vertical-align: top;\n",
       "    }\n",
       "\n",
       "    .dataframe thead th {\n",
       "        text-align: right;\n",
       "    }\n",
       "</style>\n",
       "<table border=\"1\" class=\"dataframe\">\n",
       "  <thead>\n",
       "    <tr style=\"text-align: right;\">\n",
       "      <th></th>\n",
       "      <th>color</th>\n",
       "      <th>color_name</th>\n",
       "      <th>hex</th>\n",
       "      <th>R</th>\n",
       "      <th>G</th>\n",
       "      <th>B</th>\n",
       "    </tr>\n",
       "  </thead>\n",
       "  <tbody>\n",
       "    <tr>\n",
       "      <th>0</th>\n",
       "      <td>air_force_blue_raf</td>\n",
       "      <td>Air Force Blue (Raf)</td>\n",
       "      <td>#5d8aa8</td>\n",
       "      <td>93</td>\n",
       "      <td>138</td>\n",
       "      <td>168</td>\n",
       "    </tr>\n",
       "    <tr>\n",
       "      <th>1</th>\n",
       "      <td>air_force_blue_usaf</td>\n",
       "      <td>Air Force Blue (Usaf)</td>\n",
       "      <td>#00308f</td>\n",
       "      <td>0</td>\n",
       "      <td>48</td>\n",
       "      <td>143</td>\n",
       "    </tr>\n",
       "    <tr>\n",
       "      <th>2</th>\n",
       "      <td>air_superiority_blue</td>\n",
       "      <td>Air Superiority Blue</td>\n",
       "      <td>#72a0c1</td>\n",
       "      <td>114</td>\n",
       "      <td>160</td>\n",
       "      <td>193</td>\n",
       "    </tr>\n",
       "    <tr>\n",
       "      <th>3</th>\n",
       "      <td>alabama_crimson</td>\n",
       "      <td>Alabama Crimson</td>\n",
       "      <td>#a32638</td>\n",
       "      <td>163</td>\n",
       "      <td>38</td>\n",
       "      <td>56</td>\n",
       "    </tr>\n",
       "    <tr>\n",
       "      <th>4</th>\n",
       "      <td>alice_blue</td>\n",
       "      <td>Alice Blue</td>\n",
       "      <td>#f0f8ff</td>\n",
       "      <td>240</td>\n",
       "      <td>248</td>\n",
       "      <td>255</td>\n",
       "    </tr>\n",
       "    <tr>\n",
       "      <th>5</th>\n",
       "      <td>alizarin_crimson</td>\n",
       "      <td>Alizarin Crimson</td>\n",
       "      <td>#e32636</td>\n",
       "      <td>227</td>\n",
       "      <td>38</td>\n",
       "      <td>54</td>\n",
       "    </tr>\n",
       "    <tr>\n",
       "      <th>6</th>\n",
       "      <td>alloy_orange</td>\n",
       "      <td>Alloy Orange</td>\n",
       "      <td>#c46210</td>\n",
       "      <td>196</td>\n",
       "      <td>98</td>\n",
       "      <td>16</td>\n",
       "    </tr>\n",
       "    <tr>\n",
       "      <th>7</th>\n",
       "      <td>almond</td>\n",
       "      <td>Almond</td>\n",
       "      <td>#efdecd</td>\n",
       "      <td>239</td>\n",
       "      <td>222</td>\n",
       "      <td>205</td>\n",
       "    </tr>\n",
       "    <tr>\n",
       "      <th>8</th>\n",
       "      <td>amaranth</td>\n",
       "      <td>Amaranth</td>\n",
       "      <td>#e52b50</td>\n",
       "      <td>229</td>\n",
       "      <td>43</td>\n",
       "      <td>80</td>\n",
       "    </tr>\n",
       "    <tr>\n",
       "      <th>9</th>\n",
       "      <td>amber</td>\n",
       "      <td>Amber</td>\n",
       "      <td>#ffbf00</td>\n",
       "      <td>255</td>\n",
       "      <td>191</td>\n",
       "      <td>0</td>\n",
       "    </tr>\n",
       "  </tbody>\n",
       "</table>\n",
       "</div>"
      ],
      "text/plain": [
       "                  color             color_name      hex    R    G    B\n",
       "0    air_force_blue_raf   Air Force Blue (Raf)  #5d8aa8   93  138  168\n",
       "1   air_force_blue_usaf  Air Force Blue (Usaf)  #00308f    0   48  143\n",
       "2  air_superiority_blue   Air Superiority Blue  #72a0c1  114  160  193\n",
       "3       alabama_crimson        Alabama Crimson  #a32638  163   38   56\n",
       "4            alice_blue             Alice Blue  #f0f8ff  240  248  255\n",
       "5      alizarin_crimson       Alizarin Crimson  #e32636  227   38   54\n",
       "6          alloy_orange           Alloy Orange  #c46210  196   98   16\n",
       "7                almond                 Almond  #efdecd  239  222  205\n",
       "8              amaranth               Amaranth  #e52b50  229   43   80\n",
       "9                 amber                  Amber  #ffbf00  255  191    0"
      ]
     },
     "execution_count": 2,
     "metadata": {},
     "output_type": "execute_result"
    }
   ],
   "source": [
    "img_path = r\"C:\\Users\\kshit\\color detection project\\Final\\Dseu.jpeg\"\n",
    "\n",
    "# Since the dataset does not contain the the columns names in which data is present, we will create the column name\n",
    "index = ['color', 'color_name', 'hex', 'R', 'G', 'B']\n",
    "\n",
    "# Path of the file in the current sysytem\n",
    "df = pd.read_csv(r\"C:\\Users\\kshit\\color detection project\\Color detections\\colors.csv\", names=index, header=None)\n",
    "df.head(10)"
   ]
  },
  {
   "cell_type": "code",
   "execution_count": 3,
   "id": "1b4c7f6f",
   "metadata": {},
   "outputs": [
    {
     "name": "stdout",
     "output_type": "stream",
     "text": [
      "Total Number of Rows: 865\n",
      "\n",
      "\n",
      "color           air_force_blue_usaf\n",
      "color_name    Air Force Blue (Usaf)\n",
      "hex                         #00308f\n",
      "R                                 0\n",
      "G                                48\n",
      "B                               143\n",
      "Name: 1, dtype: object\n"
     ]
    }
   ],
   "source": [
    "# Extracting the Particular Row\n",
    "\n",
    "print('Total Number of Rows:',len(df))\n",
    "print('\\n')\n",
    "print(df.loc[1])"
   ]
  },
  {
   "cell_type": "markdown",
   "id": "ed734d05",
   "metadata": {},
   "source": [
    "### Color Detection"
   ]
  },
  {
   "cell_type": "code",
   "execution_count": 4,
   "id": "f57df06a",
   "metadata": {},
   "outputs": [
    {
     "name": "stdout",
     "output_type": "stream",
     "text": [
      "[[[104 162 204]\n",
      "  [104 162 204]\n",
      "  [104 162 204]\n",
      "  ...\n",
      "  [233 203 114]\n",
      "  [233 203 114]\n",
      "  [233 203 114]]\n",
      "\n",
      " [[104 162 204]\n",
      "  [104 162 204]\n",
      "  [104 162 204]\n",
      "  ...\n",
      "  [233 203 114]\n",
      "  [233 203 114]\n",
      "  [233 203 114]]\n",
      "\n",
      " [[104 162 204]\n",
      "  [104 162 204]\n",
      "  [104 162 204]\n",
      "  ...\n",
      "  [233 203 114]\n",
      "  [233 203 114]\n",
      "  [233 203 114]]\n",
      "\n",
      " ...\n",
      "\n",
      " [[  9  17  10]\n",
      "  [  9  17  10]\n",
      "  [  9  17  10]\n",
      "  ...\n",
      "  [131 196 241]\n",
      "  [130 195 240]\n",
      "  [129 194 239]]\n",
      "\n",
      " [[  8  16   9]\n",
      "  [  9  17  10]\n",
      "  [  9  17  10]\n",
      "  ...\n",
      "  [133 198 243]\n",
      "  [132 197 242]\n",
      "  [132 197 242]]\n",
      "\n",
      " [[  8  16   9]\n",
      "  [  9  17  10]\n",
      "  [  9  17  10]\n",
      "  ...\n",
      "  [134 199 244]\n",
      "  [134 199 244]\n",
      "  [133 198 243]]]\n"
     ]
    }
   ],
   "source": [
    "# Array of pixel\n",
    "# cv2.imread is used when we have to read a image in the jupyter notebook itself, it read image in array format.\n",
    "\n",
    "img=cv2.imread(img_path)\n",
    "print(img)                # it will print an array of number, this is the way in which computer see the array of pixel.\n",
    "\n",
    "# Resizing the image\n",
    "img=cv2.resize(img,(800,600))"
   ]
  },
  {
   "cell_type": "code",
   "execution_count": 5,
   "id": "64729c94",
   "metadata": {},
   "outputs": [],
   "source": [
    "# when clicked no where\n",
    "\n",
    "clicked=False\n",
    "r=g=b=xpos=ypos=0"
   ]
  },
  {
   "cell_type": "code",
   "execution_count": 6,
   "id": "56891921",
   "metadata": {},
   "outputs": [],
   "source": [
    "# Gives the Color Name from RGB\n",
    "\n",
    "def get_color_name(R,G,B):\n",
    "    minimum = 1000\n",
    "    for i in range(len(df)):\n",
    "        d = abs(R - int(df.loc[i,'R'])) + abs(G - int(df.loc[i,'G'])) + abs(B - int(df.loc[i,'B']))\n",
    "        if d <= minimum:\n",
    "            minimum = d\n",
    "            cname = df.loc[i, 'color_name']\n",
    "            \n",
    "    return cname"
   ]
  },
  {
   "cell_type": "code",
   "execution_count": 7,
   "id": "9da49307",
   "metadata": {},
   "outputs": [],
   "source": [
    "# This function is used when we have to find color using mouse button.\n",
    "# event is 'double clicking with mouse'\n",
    "\n",
    "def draw_function(event, x, y, flags, params):\n",
    "    if event == cv2.EVENT_LBUTTONDBLCLK:\n",
    "        global b, g, r, xpos, ypos, clicked\n",
    "        clicked = True\n",
    "        xpos = x\n",
    "        ypos = y\n",
    "        b,g,r = img[y,x]\n",
    "        b = int(b)\n",
    "        g = int(g)\n",
    "        r = int(r)\n"
   ]
  },
  {
   "cell_type": "code",
   "execution_count": 8,
   "id": "3956df3e",
   "metadata": {},
   "outputs": [],
   "source": [
    "# Creating the window for image\n",
    "\n",
    "cv2.namedWindow('image')\n",
    "cv2.setMouseCallback('image',draw_function)"
   ]
  },
  {
   "cell_type": "code",
   "execution_count": 9,
   "id": "b14f709c",
   "metadata": {},
   "outputs": [],
   "source": [
    "# To keep this programm running\n",
    "\n",
    "while True:\n",
    "    cv2.imshow('image', img)\n",
    "    if clicked:\n",
    "        \n",
    "        # Creating the rectangle strip for the image\n",
    "        #cv2.rectangle (image, startpoint, endpoint, color, thickness)-1 fills entire rectangle \n",
    "        cv2.rectangle(img, (20,20), (600,60), (b,g,r), -1)\n",
    "\n",
    "        #Creating text string to display ( Color name and RGB values )\n",
    "        text = get_color_name(r,g,b) + ' R=' + str(r) + ' G=' + str(g) + ' B=' + str(b)\n",
    "        \n",
    "        #cv2.putText(img,text,start,font(0-7),fontScale,color,thickness,lineType )\n",
    "        cv2.putText(img, text, (50,50), 2,0.8, (255,255,255),2,cv2.LINE_AA)\n",
    "\n",
    "        #For very light colours we will display text in black colour\n",
    "        if r+g+b >=600:\n",
    "            cv2.putText(img, text, (50,50), 2,0.8, (0,0,0),2,cv2.LINE_AA)\n",
    "            \n",
    "    # cv.waitKey is used to close the window, if 20 sec no movement\n",
    "    if cv2.waitKey(20) & 0xFF == ord('q'):\n",
    "        cv2.destroyAllWindows()\n",
    "        break"
   ]
  },
  {
   "cell_type": "code",
   "execution_count": null,
   "id": "dabe00b2",
   "metadata": {},
   "outputs": [],
   "source": []
  }
 ],
 "metadata": {
  "kernelspec": {
   "display_name": "Python 3 (ipykernel)",
   "language": "python",
   "name": "python3"
  },
  "language_info": {
   "codemirror_mode": {
    "name": "ipython",
    "version": 3
   },
   "file_extension": ".py",
   "mimetype": "text/x-python",
   "name": "python",
   "nbconvert_exporter": "python",
   "pygments_lexer": "ipython3",
   "version": "3.9.16"
  }
 },
 "nbformat": 4,
 "nbformat_minor": 5
}
