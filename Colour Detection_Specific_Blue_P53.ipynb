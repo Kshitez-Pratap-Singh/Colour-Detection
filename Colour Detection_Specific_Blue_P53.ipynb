{
 "cells": [
  {
   "cell_type": "markdown",
   "id": "99850cd3",
   "metadata": {},
   "source": [
    "# Blue Color Detection"
   ]
  },
  {
   "cell_type": "code",
   "execution_count": null,
   "id": "f28a6768",
   "metadata": {},
   "outputs": [],
   "source": [
    "import cv2\n",
    "import numpy as np\n",
    "\n",
    "cap=cv2.VideoCapture(0)\n",
    "while True:\n",
    "    _, frame=cap.read()\n",
    "    hsv_frame=cv2.cvtColor(frame,cv2.COLOR_BGR2HSV)\n",
    "    \n",
    "    #Blue Color\n",
    "    low_blue=np.array([94,80,2])\n",
    "    high_blue=np.array([129,255,255])\n",
    "    blue_mask=cv2.inRange(hsv_frame,low_blue,high_blue)\n",
    "    blue=cv2.bitwise_and(frame,frame,mask=blue_mask)\n",
    "    \n",
    "    cv2.imshow(\"Frame\",frame)\n",
    "    cv2.imshow(\"Blue\",blue)\n",
    "    key=cv2.waitKey(1)\n",
    "    if cv2.waitKey(10) & 0xFF == ord('q'): \n",
    "        cap.release() \n",
    "        cv2.destroyAllWindows() \n",
    "        break"
   ]
  }
 ],
 "metadata": {
  "kernelspec": {
   "display_name": "Python 3 (ipykernel)",
   "language": "python",
   "name": "python3"
  },
  "language_info": {
   "codemirror_mode": {
    "name": "ipython",
    "version": 3
   },
   "file_extension": ".py",
   "mimetype": "text/x-python",
   "name": "python",
   "nbconvert_exporter": "python",
   "pygments_lexer": "ipython3",
   "version": "3.9.16"
  }
 },
 "nbformat": 4,
 "nbformat_minor": 5
}
