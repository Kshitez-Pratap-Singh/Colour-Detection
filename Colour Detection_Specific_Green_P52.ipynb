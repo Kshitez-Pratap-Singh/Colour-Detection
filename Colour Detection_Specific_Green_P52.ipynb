{
 "cells": [
  {
   "cell_type": "markdown",
   "id": "2366e079",
   "metadata": {},
   "source": [
    "# Green Color Detection"
   ]
  },
  {
   "cell_type": "code",
   "execution_count": 2,
   "id": "f28a6768",
   "metadata": {},
   "outputs": [],
   "source": [
    "import cv2\n",
    "import numpy as np\n",
    "\n",
    "cap=cv2.VideoCapture(0)\n",
    "while True:\n",
    "    _, frame=cap.read()\n",
    "    hsv_frame=cv2.cvtColor(frame,cv2.COLOR_BGR2HSV)\n",
    "    \n",
    "    \n",
    "    #Green Color\n",
    "    low_green=np.array([25,52,72])\n",
    "    high_green=np.array([102,255,255])\n",
    "    green_mask=cv2.inRange(hsv_frame,low_green,high_green)\n",
    "    green=cv2.bitwise_and(frame,frame,mask=green_mask)\n",
    "    \n",
    "    cv2.imshow(\"Frame\",frame)\n",
    "    cv2.imshow(\"Green\",green)\n",
    "    key=cv2.waitKey(1)\n",
    "    if cv2.waitKey(10) & 0xFF == ord('q'): \n",
    "        cap.release() \n",
    "        cv2.destroyAllWindows() \n",
    "        break"
   ]
  },
  {
   "cell_type": "code",
   "execution_count": null,
   "id": "05972529",
   "metadata": {},
   "outputs": [],
   "source": []
  }
 ],
 "metadata": {
  "kernelspec": {
   "display_name": "Python 3 (ipykernel)",
   "language": "python",
   "name": "python3"
  },
  "language_info": {
   "codemirror_mode": {
    "name": "ipython",
    "version": 3
   },
   "file_extension": ".py",
   "mimetype": "text/x-python",
   "name": "python",
   "nbconvert_exporter": "python",
   "pygments_lexer": "ipython3",
   "version": "3.9.16"
  }
 },
 "nbformat": 4,
 "nbformat_minor": 5
}
